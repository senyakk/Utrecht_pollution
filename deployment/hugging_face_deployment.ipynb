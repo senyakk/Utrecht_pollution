{
 "cells": [
  {
   "cell_type": "code",
   "execution_count": 1,
   "metadata": {},
   "outputs": [],
   "source": [
    "import os\n",
    "import sys\n",
    "import pickle as pk\n",
    "\n",
    "# Add the parent directory to the system path (that's for importing the functions)\n",
    "sys.path.append(os.path.abspath(os.path.join('..')))\n",
    "from src.models.main import prepare_data, train"
   ]
  },
  {
   "cell_type": "code",
   "execution_count": null,
   "metadata": {},
   "outputs": [],
   "source": [
    "# select features the model is going to be trained on\n",
    "features = ['MWS', 'WG', 'T', 'TD', 'SD', 'GR']\n",
    "\n",
    "# ================= O3 ====================\n",
    "\n",
    "# prepare data for O3, extract fitted pca and scalers\n",
    "pollutant = 'O3'\n",
    "processed_o3, scaler_feat_o3, scaler_tar_o3, pca_o3 = prepare_data(pollutant, features)\n",
    "\n",
    "# save the O3 pca and scalers\n",
    "pk.dump(pca_o3, open(\"pca.pkl\",\"wb\"))\n",
    "pk.dump(scaler_feat_o3, open(\"scaler_features.pkl\",\"wb\"))\n",
    "pk.dump(scaler_tar_o3, open(\"scalerO3_targets.pkl\",\"wb\"))\n",
    "\n",
    "# save the O3 MLP model\n",
    "trained_mlp_o3 = train(processed_o3, 'mlp', 15)\n",
    "trained_mlp_o3.save(\"./deployment/mlpO3.keras\")\n",
    "\n",
    "# ================= NO2 ====================\n",
    "\n",
    "# prepare data for O3, extract fitted pca and scalers\n",
    "pollutant = 'NO2'\n",
    "processed_no2, scaler_feat_no2, scaler_tar_no2, pca_no2 = prepare_data(pollutant, features)\n",
    "\n",
    "# save the NO2 scaler - no need to save the feature scaler and pca since they are the same as the o3 ones\n",
    "pk.dump(scaler_tar_no2, open(\"scalerNO2_targets.pkl\",\"wb\"))\n",
    "\n",
    "# save the NO2 MLP model\n",
    "trained_mlp_no2 = train(processed_no2, 'mlp', 15)\n",
    "trained_mlp_no2.save(\"./deployment/mlpNO2.keras\")\n"
   ]
  },
  {
   "cell_type": "code",
   "execution_count": 9,
   "metadata": {},
   "outputs": [
    {
     "data": {
      "application/vnd.jupyter.widget-view+json": {
       "model_id": "9f16d65609e644688a243bb8d213851d",
       "version_major": 2,
       "version_minor": 0
      },
      "text/plain": [
       "VBox(children=(HTML(value='<center> <img\\nsrc=https://huggingface.co/front/assets/huggingface_logo-noborder.sv…"
      ]
     },
     "metadata": {},
     "output_type": "display_data"
    }
   ],
   "source": [
    "from huggingface_hub import notebook_login\n",
    "\n",
    "# connect to huggingface using your access token\n",
    "notebook_login()"
   ]
  },
  {
   "cell_type": "code",
   "execution_count": 33,
   "metadata": {},
   "outputs": [
    {
     "data": {
      "application/vnd.jupyter.widget-view+json": {
       "model_id": "953a39b54ac443f5bd094b1ab9007dfe",
       "version_major": 2,
       "version_minor": 0
      },
      "text/plain": [
       "lstmNO2.keras:   0%|          | 0.00/1.57M [00:00<?, ?B/s]"
      ]
     },
     "metadata": {},
     "output_type": "display_data"
    },
    {
     "data": {
      "text/plain": [
       "CommitInfo(commit_url='https://huggingface.co/senyakk/pollution_MLP/commit/adb950fc913a297132bf7e486d3b85026a24e608', commit_message='Initial model upload', commit_description='', oid='adb950fc913a297132bf7e486d3b85026a24e608', pr_url=None, repo_url=RepoUrl('https://huggingface.co/senyakk/pollution_MLP', endpoint='https://huggingface.co', repo_type='model', repo_id='senyakk/pollution_MLP'), pr_revision=None, pr_num=None)"
      ]
     },
     "execution_count": 33,
     "metadata": {},
     "output_type": "execute_result"
    }
   ],
   "source": [
    "# This allows to upload models to the huggingface hub. \n",
    "# Alternatively, the repository can be cloned and used as a regular git repository.\n",
    "\n",
    "from huggingface_hub import HfApi\n",
    "\n",
    "api = HfApi()\n",
    "api.upload_file(\n",
    "    path_or_fileobj=\"./deployment/mlpO3.keras\",  \n",
    "    path_in_repo=\"mlpO3.keras\",      \n",
    "    repo_id=\"senyakk/pollution_MLP\",  \n",
    "    commit_message=\"Initial model upload\"\n",
    ")\n",
    "\n",
    "api = HfApi()\n",
    "api.upload_file(\n",
    "    path_or_fileobj=\"./deployment/mlpNO2.keras\",  \n",
    "    path_in_repo=\"mlpNO2.keras\",      \n",
    "    repo_id=\"senyakk/pollution_MLP\",  \n",
    "    commit_message=\"Initial model upload\"\n",
    ")"
   ]
  }
 ],
 "metadata": {
  "kernelspec": {
   "display_name": "mlin",
   "language": "python",
   "name": "python3"
  },
  "language_info": {
   "codemirror_mode": {
    "name": "ipython",
    "version": 3
   },
   "file_extension": ".py",
   "mimetype": "text/x-python",
   "name": "python",
   "nbconvert_exporter": "python",
   "pygments_lexer": "ipython3",
   "version": "3.12.5"
  }
 },
 "nbformat": 4,
 "nbformat_minor": 2
}
