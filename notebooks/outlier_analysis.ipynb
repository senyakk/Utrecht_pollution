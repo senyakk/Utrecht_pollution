{
 "cells": [
  {
   "cell_type": "code",
   "execution_count": 1,
   "metadata": {},
   "outputs": [],
   "source": [
    "import pandas as pd"
   ]
  },
  {
   "cell_type": "code",
   "execution_count": 2,
   "metadata": {},
   "outputs": [],
   "source": [
    "def zscore(s, window, thresh, return_all=False):\n",
    "    roll = s.rolling(window=window, min_periods=1, center=True)\n",
    "    avg = roll.mean()\n",
    "    std = roll.std(ddof=0)\n",
    "    z = s.sub(avg).div(std)   \n",
    "    m = z.between(-thresh, thresh)\n",
    "    \n",
    "    if return_all:\n",
    "        return z, avg, std, m\n",
    "    return s.where(m, avg)"
   ]
  },
  {
   "cell_type": "code",
   "execution_count": 3,
   "metadata": {},
   "outputs": [
    {
     "data": {
      "text/html": [
       "<div>\n",
       "<style scoped>\n",
       "    .dataframe tbody tr th:only-of-type {\n",
       "        vertical-align: middle;\n",
       "    }\n",
       "\n",
       "    .dataframe tbody tr th {\n",
       "        vertical-align: top;\n",
       "    }\n",
       "\n",
       "    .dataframe thead th {\n",
       "        text-align: right;\n",
       "    }\n",
       "</style>\n",
       "<table border=\"1\" class=\"dataframe\">\n",
       "  <thead>\n",
       "    <tr style=\"text-align: right;\">\n",
       "      <th></th>\n",
       "      <th>YYYYMMDD</th>\n",
       "      <th>HH</th>\n",
       "      <th>MWD</th>\n",
       "      <th>MWS</th>\n",
       "      <th>MWS10</th>\n",
       "      <th>WG</th>\n",
       "      <th>T</th>\n",
       "      <th>TD</th>\n",
       "      <th>SD</th>\n",
       "      <th>GR</th>\n",
       "      <th>P</th>\n",
       "      <th>NO2</th>\n",
       "      <th>O3</th>\n",
       "    </tr>\n",
       "  </thead>\n",
       "  <tbody>\n",
       "    <tr>\n",
       "      <th>0</th>\n",
       "      <td>20160101</td>\n",
       "      <td>1</td>\n",
       "      <td>200</td>\n",
       "      <td>40</td>\n",
       "      <td>40</td>\n",
       "      <td>70</td>\n",
       "      <td>74</td>\n",
       "      <td>44</td>\n",
       "      <td>0</td>\n",
       "      <td>0</td>\n",
       "      <td>10212</td>\n",
       "      <td>36.53</td>\n",
       "      <td>20.24</td>\n",
       "    </tr>\n",
       "    <tr>\n",
       "      <th>1</th>\n",
       "      <td>20160101</td>\n",
       "      <td>2</td>\n",
       "      <td>200</td>\n",
       "      <td>40</td>\n",
       "      <td>30</td>\n",
       "      <td>70</td>\n",
       "      <td>65</td>\n",
       "      <td>44</td>\n",
       "      <td>0</td>\n",
       "      <td>0</td>\n",
       "      <td>10219</td>\n",
       "      <td>22.74</td>\n",
       "      <td>32.12</td>\n",
       "    </tr>\n",
       "    <tr>\n",
       "      <th>2</th>\n",
       "      <td>20160101</td>\n",
       "      <td>3</td>\n",
       "      <td>210</td>\n",
       "      <td>30</td>\n",
       "      <td>30</td>\n",
       "      <td>50</td>\n",
       "      <td>55</td>\n",
       "      <td>42</td>\n",
       "      <td>0</td>\n",
       "      <td>0</td>\n",
       "      <td>10225</td>\n",
       "      <td>24.28</td>\n",
       "      <td>29.87</td>\n",
       "    </tr>\n",
       "    <tr>\n",
       "      <th>3</th>\n",
       "      <td>20160101</td>\n",
       "      <td>4</td>\n",
       "      <td>210</td>\n",
       "      <td>30</td>\n",
       "      <td>30</td>\n",
       "      <td>40</td>\n",
       "      <td>55</td>\n",
       "      <td>46</td>\n",
       "      <td>0</td>\n",
       "      <td>0</td>\n",
       "      <td>10228</td>\n",
       "      <td>22.56</td>\n",
       "      <td>27.62</td>\n",
       "    </tr>\n",
       "    <tr>\n",
       "      <th>4</th>\n",
       "      <td>20160101</td>\n",
       "      <td>5</td>\n",
       "      <td>110</td>\n",
       "      <td>10</td>\n",
       "      <td>10</td>\n",
       "      <td>40</td>\n",
       "      <td>21</td>\n",
       "      <td>15</td>\n",
       "      <td>0</td>\n",
       "      <td>0</td>\n",
       "      <td>10233</td>\n",
       "      <td>23.67</td>\n",
       "      <td>25.62</td>\n",
       "    </tr>\n",
       "  </tbody>\n",
       "</table>\n",
       "</div>"
      ],
      "text/plain": [
       "   YYYYMMDD  HH  MWD  MWS  MWS10  WG   T  TD  SD  GR      P    NO2     O3\n",
       "0  20160101   1  200   40     40  70  74  44   0   0  10212  36.53  20.24\n",
       "1  20160101   2  200   40     30  70  65  44   0   0  10219  22.74  32.12\n",
       "2  20160101   3  210   30     30  50  55  42   0   0  10225  24.28  29.87\n",
       "3  20160101   4  210   30     30  40  55  46   0   0  10228  22.56  27.62\n",
       "4  20160101   5  110   10     10  40  21  15   0   0  10233  23.67  25.62"
      ]
     },
     "execution_count": 3,
     "metadata": {},
     "output_type": "execute_result"
    }
   ],
   "source": [
    "df = pd.read_csv(\"../data/processed/combined.csv\")\n",
    "df.head()"
   ]
  },
  {
   "cell_type": "markdown",
   "metadata": {},
   "source": [
    "### Visualisation of Outliers from period of Jan 1st 2016 - Jul 31st 2018"
   ]
  },
  {
   "cell_type": "code",
   "execution_count": 4,
   "metadata": {},
   "outputs": [
    {
     "name": "stdout",
     "output_type": "stream",
     "text": [
      "Number of outliers in O3: 8\n",
      "Number of outliers in NO2: 74\n"
     ]
    }
   ],
   "source": [
    "# Time range of our data: from Jan 1, 2016 to December 31, 2018, at hourly intervals\n",
    "start_time = pd.Timestamp('2016-01-01 00:00')\n",
    "end_time = pd.Timestamp('2019-01-01 00:00')\n",
    "date_range = pd.date_range(start=start_time, end=end_time, freq='h')\n",
    "\n",
    "\n",
    "two_years = df.iloc[:26305]\n",
    "two_years.index = date_range\n",
    "\n",
    "vars = ['O3', 'NO2']\n",
    "\n",
    "# Window for averaging\n",
    "window = 24\n",
    "# Threshold variable - the higher the threshold, the fewer outliers considered\n",
    "thresh = 3\n",
    "\n",
    "outlier_counts = {}\n",
    "\n",
    "for var in vars:\n",
    "    z, avg, std, m = zscore(two_years[var], window=window, thresh=thresh, return_all=True)\n",
    "    \n",
    "    # count the number of outliers\n",
    "    num_outliers = (~m).sum()\n",
    "    outlier_counts[var] = num_outliers\n",
    "    print(f'Number of outliers in {var}: {num_outliers}')"
   ]
  }
 ],
 "metadata": {
  "kernelspec": {
   "display_name": "ml4i",
   "language": "python",
   "name": "python3"
  },
  "language_info": {
   "codemirror_mode": {
    "name": "ipython",
    "version": 3
   },
   "file_extension": ".py",
   "mimetype": "text/x-python",
   "name": "python",
   "nbconvert_exporter": "python",
   "pygments_lexer": "ipython3",
   "version": "3.9.6"
  }
 },
 "nbformat": 4,
 "nbformat_minor": 2
}
